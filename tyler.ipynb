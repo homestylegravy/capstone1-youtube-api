{
 "cells": [
  {
   "cell_type": "code",
   "execution_count": 2,
   "metadata": {},
   "outputs": [],
   "source": [
    "import numpy as np\n",
    "from scipy import stats\n",
    "import matplotlib.pyplot as plt\n",
    "%matplotlib inline\n",
    "%load_ext autoreload\n",
    "%autoreload 2\n",
    "from YouTube import capstone"
   ]
  },
  {
   "cell_type": "code",
   "execution_count": 8,
   "metadata": {},
   "outputs": [
    {
     "ename": "SyntaxError",
     "evalue": "invalid syntax (<ipython-input-8-8d64b14cd922>, line 1)",
     "output_type": "error",
     "traceback": [
      "\u001b[0;36m  File \u001b[0;32m\"<ipython-input-8-8d64b14cd922>\"\u001b[0;36m, line \u001b[0;32m1\u001b[0m\n\u001b[0;31m    import google-api-python-client\u001b[0m\n\u001b[0m                 ^\u001b[0m\n\u001b[0;31mSyntaxError\u001b[0m\u001b[0;31m:\u001b[0m invalid syntax\n"
     ]
    }
   ],
   "source": [
    "import google-api-python-client"
   ]
  },
  {
   "cell_type": "code",
   "execution_count": null,
   "metadata": {},
   "outputs": [],
   "source": [
    "import google-auth-oauthlib google-auth-httplib2"
   ]
  },
  {
   "cell_type": "markdown",
   "metadata": {},
   "source": [
    "# Using the Youtube API"
   ]
  },
  {
   "cell_type": "code",
   "execution_count": 6,
   "metadata": {},
   "outputs": [
    {
     "name": "stdout",
     "output_type": "stream",
     "text": [
      "Collecting google-api-python-client\n",
      "  Downloading google_api_python_client-1.8.0-py3-none-any.whl (57 kB)\n",
      "\u001b[K     |████████████████████████████████| 57 kB 308 kB/s eta 0:00:01\n",
      "\u001b[?25hCollecting google-api-core<2dev,>=1.13.0\n",
      "  Downloading google_api_core-1.16.0-py2.py3-none-any.whl (70 kB)\n",
      "\u001b[K     |████████████████████████████████| 70 kB 657 kB/s eta 0:00:01\n",
      "\u001b[?25hRequirement already satisfied, skipping upgrade: six<2dev,>=1.6.1 in /home/ty/anaconda3/lib/python3.7/site-packages (from google-api-python-client) (1.14.0)\n",
      "Collecting uritemplate<4dev,>=3.0.0\n",
      "  Downloading uritemplate-3.0.1-py2.py3-none-any.whl (15 kB)\n",
      "Collecting google-auth-httplib2>=0.0.3\n",
      "  Downloading google_auth_httplib2-0.0.3-py2.py3-none-any.whl (6.3 kB)\n",
      "Collecting google-auth>=1.4.1\n",
      "  Downloading google_auth-1.13.1-py2.py3-none-any.whl (87 kB)\n",
      "\u001b[K     |████████████████████████████████| 87 kB 756 kB/s  eta 0:00:01\n",
      "\u001b[?25hCollecting httplib2<1dev,>=0.9.2\n",
      "  Downloading httplib2-0.17.1-py3-none-any.whl (95 kB)\n",
      "\u001b[K     |███████████████████████████████ | 92 kB 25.7 MB/s eta 0:00:01     |████████████████████████████████| 95 kB 507 kB/s \n",
      "\u001b[?25hRequirement already satisfied, skipping upgrade: setuptools>=34.0.0 in /home/ty/anaconda3/lib/python3.7/site-packages (from google-api-core<2dev,>=1.13.0->google-api-python-client) (45.2.0.post20200210)\n",
      "Requirement already satisfied, skipping upgrade: pytz in /home/ty/anaconda3/lib/python3.7/site-packages (from google-api-core<2dev,>=1.13.0->google-api-python-client) (2019.3)\n",
      "Requirement already satisfied, skipping upgrade: requests<3.0.0dev,>=2.18.0 in /home/ty/anaconda3/lib/python3.7/site-packages (from google-api-core<2dev,>=1.13.0->google-api-python-client) (2.22.0)\n",
      "Collecting googleapis-common-protos<2.0dev,>=1.6.0\n",
      "  Downloading googleapis-common-protos-1.51.0.tar.gz (35 kB)\n",
      "Collecting protobuf>=3.4.0\n",
      "  Downloading protobuf-3.11.3-cp37-cp37m-manylinux1_x86_64.whl (1.3 MB)\n",
      "\u001b[K     |████████████████████████████████| 1.3 MB 9.0 MB/s eta 0:00:01     |████████████▎                   | 481 kB 9.0 MB/s eta 0:00:01\n",
      "\u001b[?25hCollecting pyasn1-modules>=0.2.1\n",
      "  Downloading pyasn1_modules-0.2.8-py2.py3-none-any.whl (155 kB)\n",
      "\u001b[K     |████████████████████████████████| 155 kB 5.4 MB/s eta 0:00:01\n",
      "\u001b[?25hCollecting rsa<4.1,>=3.1.4\n",
      "  Downloading rsa-4.0-py2.py3-none-any.whl (38 kB)\n",
      "Collecting cachetools<5.0,>=2.0.0\n",
      "  Downloading cachetools-4.0.0-py3-none-any.whl (10 kB)\n",
      "Requirement already satisfied, skipping upgrade: chardet<3.1.0,>=3.0.2 in /home/ty/anaconda3/lib/python3.7/site-packages (from requests<3.0.0dev,>=2.18.0->google-api-core<2dev,>=1.13.0->google-api-python-client) (3.0.4)\n",
      "Requirement already satisfied, skipping upgrade: urllib3!=1.25.0,!=1.25.1,<1.26,>=1.21.1 in /home/ty/anaconda3/lib/python3.7/site-packages (from requests<3.0.0dev,>=2.18.0->google-api-core<2dev,>=1.13.0->google-api-python-client) (1.25.8)\n",
      "Requirement already satisfied, skipping upgrade: idna<2.9,>=2.5 in /home/ty/anaconda3/lib/python3.7/site-packages (from requests<3.0.0dev,>=2.18.0->google-api-core<2dev,>=1.13.0->google-api-python-client) (2.8)\n",
      "Requirement already satisfied, skipping upgrade: certifi>=2017.4.17 in /home/ty/anaconda3/lib/python3.7/site-packages (from requests<3.0.0dev,>=2.18.0->google-api-core<2dev,>=1.13.0->google-api-python-client) (2019.11.28)\n",
      "Collecting pyasn1<0.5.0,>=0.4.6\n",
      "  Downloading pyasn1-0.4.8-py2.py3-none-any.whl (77 kB)\n",
      "\u001b[K     |████████████████████████████████| 77 kB 114 kB/s  eta 0:00:01\n",
      "\u001b[?25hBuilding wheels for collected packages: googleapis-common-protos\n",
      "  Building wheel for googleapis-common-protos (setup.py) ... \u001b[?25ldone\n",
      "\u001b[?25h  Created wheel for googleapis-common-protos: filename=googleapis_common_protos-1.51.0-py3-none-any.whl size=77592 sha256=3889f533bb560d59eba6331e98de92809cd428fbf0ccec1f70a9d9a31c627b15\n",
      "  Stored in directory: /home/ty/.cache/pip/wheels/4c/a1/71/5e427276ceeff277fd76878d1b19fbf4587a2845015d86864b\n",
      "Successfully built googleapis-common-protos\n",
      "Installing collected packages: protobuf, googleapis-common-protos, pyasn1, pyasn1-modules, rsa, cachetools, google-auth, google-api-core, uritemplate, httplib2, google-auth-httplib2, google-api-python-client\n",
      "Successfully installed cachetools-4.0.0 google-api-core-1.16.0 google-api-python-client-1.8.0 google-auth-1.13.1 google-auth-httplib2-0.0.3 googleapis-common-protos-1.51.0 httplib2-0.17.1 protobuf-3.11.3 pyasn1-0.4.8 pyasn1-modules-0.2.8 rsa-4.0 uritemplate-3.0.1\n"
     ]
    }
   ],
   "source": [
    "!pip install --upgrade google-api-python-client"
   ]
  },
  {
   "cell_type": "code",
   "execution_count": 7,
   "metadata": {},
   "outputs": [
    {
     "name": "stdout",
     "output_type": "stream",
     "text": [
      "Collecting google-auth-oauthlib\n",
      "  Downloading google_auth_oauthlib-0.4.1-py2.py3-none-any.whl (18 kB)\n",
      "Requirement already up-to-date: google-auth-httplib2 in /home/ty/anaconda3/lib/python3.7/site-packages (0.0.3)\n",
      "Requirement already satisfied, skipping upgrade: google-auth in /home/ty/anaconda3/lib/python3.7/site-packages (from google-auth-oauthlib) (1.13.1)\n",
      "Collecting requests-oauthlib>=0.7.0\n",
      "  Downloading requests_oauthlib-1.3.0-py2.py3-none-any.whl (23 kB)\n",
      "Requirement already satisfied, skipping upgrade: httplib2>=0.9.1 in /home/ty/anaconda3/lib/python3.7/site-packages (from google-auth-httplib2) (0.17.1)\n",
      "Requirement already satisfied, skipping upgrade: rsa<4.1,>=3.1.4 in /home/ty/anaconda3/lib/python3.7/site-packages (from google-auth->google-auth-oauthlib) (4.0)\n",
      "Requirement already satisfied, skipping upgrade: cachetools<5.0,>=2.0.0 in /home/ty/anaconda3/lib/python3.7/site-packages (from google-auth->google-auth-oauthlib) (4.0.0)\n",
      "Requirement already satisfied, skipping upgrade: setuptools>=40.3.0 in /home/ty/anaconda3/lib/python3.7/site-packages (from google-auth->google-auth-oauthlib) (45.2.0.post20200210)\n",
      "Requirement already satisfied, skipping upgrade: pyasn1-modules>=0.2.1 in /home/ty/anaconda3/lib/python3.7/site-packages (from google-auth->google-auth-oauthlib) (0.2.8)\n",
      "Requirement already satisfied, skipping upgrade: six>=1.9.0 in /home/ty/anaconda3/lib/python3.7/site-packages (from google-auth->google-auth-oauthlib) (1.14.0)\n",
      "Requirement already satisfied, skipping upgrade: requests>=2.0.0 in /home/ty/anaconda3/lib/python3.7/site-packages (from requests-oauthlib>=0.7.0->google-auth-oauthlib) (2.22.0)\n",
      "Collecting oauthlib>=3.0.0\n",
      "  Downloading oauthlib-3.1.0-py2.py3-none-any.whl (147 kB)\n",
      "\u001b[K     |████████████████████████████████| 147 kB 5.0 MB/s eta 0:00:01\n",
      "\u001b[?25hRequirement already satisfied, skipping upgrade: pyasn1>=0.1.3 in /home/ty/anaconda3/lib/python3.7/site-packages (from rsa<4.1,>=3.1.4->google-auth->google-auth-oauthlib) (0.4.8)\n",
      "Requirement already satisfied, skipping upgrade: idna<2.9,>=2.5 in /home/ty/anaconda3/lib/python3.7/site-packages (from requests>=2.0.0->requests-oauthlib>=0.7.0->google-auth-oauthlib) (2.8)\n",
      "Requirement already satisfied, skipping upgrade: certifi>=2017.4.17 in /home/ty/anaconda3/lib/python3.7/site-packages (from requests>=2.0.0->requests-oauthlib>=0.7.0->google-auth-oauthlib) (2019.11.28)\n",
      "Requirement already satisfied, skipping upgrade: urllib3!=1.25.0,!=1.25.1,<1.26,>=1.21.1 in /home/ty/anaconda3/lib/python3.7/site-packages (from requests>=2.0.0->requests-oauthlib>=0.7.0->google-auth-oauthlib) (1.25.8)\n",
      "Requirement already satisfied, skipping upgrade: chardet<3.1.0,>=3.0.2 in /home/ty/anaconda3/lib/python3.7/site-packages (from requests>=2.0.0->requests-oauthlib>=0.7.0->google-auth-oauthlib) (3.0.4)\n",
      "Installing collected packages: oauthlib, requests-oauthlib, google-auth-oauthlib\n",
      "Successfully installed google-auth-oauthlib-0.4.1 oauthlib-3.1.0 requests-oauthlib-1.3.0\n"
     ]
    }
   ],
   "source": [
    "!pip install --upgrade google-auth-oauthlib google-auth-httplib2"
   ]
  },
  {
   "cell_type": "code",
   "execution_count": null,
   "metadata": {},
   "outputs": [],
   "source": []
  }
 ],
 "metadata": {
  "kernelspec": {
   "display_name": "Python 3",
   "language": "python",
   "name": "python3"
  },
  "language_info": {
   "codemirror_mode": {
    "name": "ipython",
    "version": 3
   },
   "file_extension": ".py",
   "mimetype": "text/x-python",
   "name": "python",
   "nbconvert_exporter": "python",
   "pygments_lexer": "ipython3",
   "version": "3.7.6"
  }
 },
 "nbformat": 4,
 "nbformat_minor": 4
}
