{
 "cells": [
  {
   "cell_type": "code",
   "execution_count": 1,
   "metadata": {},
   "outputs": [
    {
     "ename": "SyntaxError",
     "evalue": "from __future__ imports must occur at the beginning of the file (<ipython-input-1-53e2a1e93d6d>, line 11)",
     "output_type": "error",
     "traceback": [
      "\u001b[0;36m  File \u001b[0;32m\"<ipython-input-1-53e2a1e93d6d>\"\u001b[0;36m, line \u001b[0;32m11\u001b[0m\n\u001b[0;31m    from googleapiclient import errors\u001b[0m\n\u001b[0m           ^\u001b[0m\n\u001b[0;31mSyntaxError\u001b[0m\u001b[0;31m:\u001b[0m from __future__ imports must occur at the beginning of the file\n"
     ]
    }
   ],
   "source": [
    "import numpy as np\n",
    "from scipy import stats\n",
    "import matplotlib.pyplot as plt\n",
    "%matplotlib inline\n",
    "%load_ext autoreload\n",
    "%autoreload 2"
   ]
  },
  {
   "cell_type": "code",
   "execution_count": 2,
   "metadata": {},
   "outputs": [],
   "source": [
    "from __future__ import print_function\n",
    "import pickle\n",
    "import os.path\n",
    "from googleapiclient import errors\n",
    "from googleapiclient.discovery import build\n",
    "from google_auth_oauthlib.flow import InstalledAppFlow\n",
    "from google.auth.transport.requests import Request"
   ]
  },
  {
   "cell_type": "code",
   "execution_count": 8,
   "metadata": {},
   "outputs": [
    {
     "ename": "SyntaxError",
     "evalue": "invalid syntax (<ipython-input-8-8d64b14cd922>, line 1)",
     "output_type": "error",
     "traceback": [
      "\u001b[0;36m  File \u001b[0;32m\"<ipython-input-8-8d64b14cd922>\"\u001b[0;36m, line \u001b[0;32m1\u001b[0m\n\u001b[0;31m    import google-api-python-client\u001b[0m\n\u001b[0m                 ^\u001b[0m\n\u001b[0;31mSyntaxError\u001b[0m\u001b[0;31m:\u001b[0m invalid syntax\n"
     ]
    }
   ],
   "source": [
    "import google-api-python-client"
   ]
  },
  {
   "cell_type": "code",
   "execution_count": null,
   "metadata": {},
   "outputs": [],
   "source": [
    "import google-auth-oauthlib google-auth-httplib2"
   ]
  },
  {
   "cell_type": "markdown",
   "metadata": {},
   "source": [
    "# Using the Youtube API"
   ]
  },
  {
   "cell_type": "code",
   "execution_count": 2,
   "metadata": {},
   "outputs": [
    {
     "name": "stdout",
     "output_type": "stream",
     "text": [
      "Collecting package metadata (current_repodata.json): done\n",
      "Solving environment: failed with initial frozen solve. Retrying with flexible solve.\n",
      "Collecting package metadata (repodata.json): done\n",
      "Solving environment: failed with initial frozen solve. Retrying with flexible solve.\n",
      "\n",
      "PackagesNotFoundError: The following packages are not available from current channels:\n",
      "\n",
      "  - google-api-python-client\n",
      "\n",
      "Current channels:\n",
      "\n",
      "  - https://repo.anaconda.com/pkgs/main/linux-64\n",
      "  - https://repo.anaconda.com/pkgs/main/noarch\n",
      "  - https://repo.anaconda.com/pkgs/r/linux-64\n",
      "  - https://repo.anaconda.com/pkgs/r/noarch\n",
      "\n",
      "To search for alternate channels that may provide the conda package you're\n",
      "looking for, navigate to\n",
      "\n",
      "    https://anaconda.org\n",
      "\n",
      "and use the search bar at the top of the page.\n",
      "\n",
      "\n"
     ]
    }
   ],
   "source": [
    "!conda install google-api-python-client"
   ]
  },
  {
   "cell_type": "code",
   "execution_count": 6,
   "metadata": {},
   "outputs": [
    {
     "name": "stdout",
     "output_type": "stream",
     "text": [
      "Collecting google-api-python-client\n",
      "  Downloading google_api_python_client-1.8.0-py3-none-any.whl (57 kB)\n",
      "\u001b[K     |████████████████████████████████| 57 kB 308 kB/s eta 0:00:01\n",
      "\u001b[?25hCollecting google-api-core<2dev,>=1.13.0\n",
      "  Downloading google_api_core-1.16.0-py2.py3-none-any.whl (70 kB)\n",
      "\u001b[K     |████████████████████████████████| 70 kB 657 kB/s eta 0:00:01\n",
      "\u001b[?25hRequirement already satisfied, skipping upgrade: six<2dev,>=1.6.1 in /home/ty/anaconda3/lib/python3.7/site-packages (from google-api-python-client) (1.14.0)\n",
      "Collecting uritemplate<4dev,>=3.0.0\n",
      "  Downloading uritemplate-3.0.1-py2.py3-none-any.whl (15 kB)\n",
      "Collecting google-auth-httplib2>=0.0.3\n",
      "  Downloading google_auth_httplib2-0.0.3-py2.py3-none-any.whl (6.3 kB)\n",
      "Collecting google-auth>=1.4.1\n",
      "  Downloading google_auth-1.13.1-py2.py3-none-any.whl (87 kB)\n",
      "\u001b[K     |████████████████████████████████| 87 kB 756 kB/s  eta 0:00:01\n",
      "\u001b[?25hCollecting httplib2<1dev,>=0.9.2\n",
      "  Downloading httplib2-0.17.1-py3-none-any.whl (95 kB)\n",
      "\u001b[K     |███████████████████████████████ | 92 kB 25.7 MB/s eta 0:00:01     |████████████████████████████████| 95 kB 507 kB/s \n",
      "\u001b[?25hRequirement already satisfied, skipping upgrade: setuptools>=34.0.0 in /home/ty/anaconda3/lib/python3.7/site-packages (from google-api-core<2dev,>=1.13.0->google-api-python-client) (45.2.0.post20200210)\n",
      "Requirement already satisfied, skipping upgrade: pytz in /home/ty/anaconda3/lib/python3.7/site-packages (from google-api-core<2dev,>=1.13.0->google-api-python-client) (2019.3)\n",
      "Requirement already satisfied, skipping upgrade: requests<3.0.0dev,>=2.18.0 in /home/ty/anaconda3/lib/python3.7/site-packages (from google-api-core<2dev,>=1.13.0->google-api-python-client) (2.22.0)\n",
      "Collecting googleapis-common-protos<2.0dev,>=1.6.0\n",
      "  Downloading googleapis-common-protos-1.51.0.tar.gz (35 kB)\n",
      "Collecting protobuf>=3.4.0\n",
      "  Downloading protobuf-3.11.3-cp37-cp37m-manylinux1_x86_64.whl (1.3 MB)\n",
      "\u001b[K     |████████████████████████████████| 1.3 MB 9.0 MB/s eta 0:00:01     |████████████▎                   | 481 kB 9.0 MB/s eta 0:00:01\n",
      "\u001b[?25hCollecting pyasn1-modules>=0.2.1\n",
      "  Downloading pyasn1_modules-0.2.8-py2.py3-none-any.whl (155 kB)\n",
      "\u001b[K     |████████████████████████████████| 155 kB 5.4 MB/s eta 0:00:01\n",
      "\u001b[?25hCollecting rsa<4.1,>=3.1.4\n",
      "  Downloading rsa-4.0-py2.py3-none-any.whl (38 kB)\n",
      "Collecting cachetools<5.0,>=2.0.0\n",
      "  Downloading cachetools-4.0.0-py3-none-any.whl (10 kB)\n",
      "Requirement already satisfied, skipping upgrade: chardet<3.1.0,>=3.0.2 in /home/ty/anaconda3/lib/python3.7/site-packages (from requests<3.0.0dev,>=2.18.0->google-api-core<2dev,>=1.13.0->google-api-python-client) (3.0.4)\n",
      "Requirement already satisfied, skipping upgrade: urllib3!=1.25.0,!=1.25.1,<1.26,>=1.21.1 in /home/ty/anaconda3/lib/python3.7/site-packages (from requests<3.0.0dev,>=2.18.0->google-api-core<2dev,>=1.13.0->google-api-python-client) (1.25.8)\n",
      "Requirement already satisfied, skipping upgrade: idna<2.9,>=2.5 in /home/ty/anaconda3/lib/python3.7/site-packages (from requests<3.0.0dev,>=2.18.0->google-api-core<2dev,>=1.13.0->google-api-python-client) (2.8)\n",
      "Requirement already satisfied, skipping upgrade: certifi>=2017.4.17 in /home/ty/anaconda3/lib/python3.7/site-packages (from requests<3.0.0dev,>=2.18.0->google-api-core<2dev,>=1.13.0->google-api-python-client) (2019.11.28)\n",
      "Collecting pyasn1<0.5.0,>=0.4.6\n",
      "  Downloading pyasn1-0.4.8-py2.py3-none-any.whl (77 kB)\n",
      "\u001b[K     |████████████████████████████████| 77 kB 114 kB/s  eta 0:00:01\n",
      "\u001b[?25hBuilding wheels for collected packages: googleapis-common-protos\n",
      "  Building wheel for googleapis-common-protos (setup.py) ... \u001b[?25ldone\n",
      "\u001b[?25h  Created wheel for googleapis-common-protos: filename=googleapis_common_protos-1.51.0-py3-none-any.whl size=77592 sha256=3889f533bb560d59eba6331e98de92809cd428fbf0ccec1f70a9d9a31c627b15\n",
      "  Stored in directory: /home/ty/.cache/pip/wheels/4c/a1/71/5e427276ceeff277fd76878d1b19fbf4587a2845015d86864b\n",
      "Successfully built googleapis-common-protos\n",
      "Installing collected packages: protobuf, googleapis-common-protos, pyasn1, pyasn1-modules, rsa, cachetools, google-auth, google-api-core, uritemplate, httplib2, google-auth-httplib2, google-api-python-client\n",
      "Successfully installed cachetools-4.0.0 google-api-core-1.16.0 google-api-python-client-1.8.0 google-auth-1.13.1 google-auth-httplib2-0.0.3 googleapis-common-protos-1.51.0 httplib2-0.17.1 protobuf-3.11.3 pyasn1-0.4.8 pyasn1-modules-0.2.8 rsa-4.0 uritemplate-3.0.1\n"
     ]
    }
   ],
   "source": [
    "!pip install --upgrade google-api-python-client"
   ]
  },
  {
   "cell_type": "code",
   "execution_count": 7,
   "metadata": {},
   "outputs": [
    {
     "name": "stdout",
     "output_type": "stream",
     "text": [
      "Collecting google-auth-oauthlib\n",
      "  Downloading google_auth_oauthlib-0.4.1-py2.py3-none-any.whl (18 kB)\n",
      "Requirement already up-to-date: google-auth-httplib2 in /home/ty/anaconda3/lib/python3.7/site-packages (0.0.3)\n",
      "Requirement already satisfied, skipping upgrade: google-auth in /home/ty/anaconda3/lib/python3.7/site-packages (from google-auth-oauthlib) (1.13.1)\n",
      "Collecting requests-oauthlib>=0.7.0\n",
      "  Downloading requests_oauthlib-1.3.0-py2.py3-none-any.whl (23 kB)\n",
      "Requirement already satisfied, skipping upgrade: httplib2>=0.9.1 in /home/ty/anaconda3/lib/python3.7/site-packages (from google-auth-httplib2) (0.17.1)\n",
      "Requirement already satisfied, skipping upgrade: rsa<4.1,>=3.1.4 in /home/ty/anaconda3/lib/python3.7/site-packages (from google-auth->google-auth-oauthlib) (4.0)\n",
      "Requirement already satisfied, skipping upgrade: cachetools<5.0,>=2.0.0 in /home/ty/anaconda3/lib/python3.7/site-packages (from google-auth->google-auth-oauthlib) (4.0.0)\n",
      "Requirement already satisfied, skipping upgrade: setuptools>=40.3.0 in /home/ty/anaconda3/lib/python3.7/site-packages (from google-auth->google-auth-oauthlib) (45.2.0.post20200210)\n",
      "Requirement already satisfied, skipping upgrade: pyasn1-modules>=0.2.1 in /home/ty/anaconda3/lib/python3.7/site-packages (from google-auth->google-auth-oauthlib) (0.2.8)\n",
      "Requirement already satisfied, skipping upgrade: six>=1.9.0 in /home/ty/anaconda3/lib/python3.7/site-packages (from google-auth->google-auth-oauthlib) (1.14.0)\n",
      "Requirement already satisfied, skipping upgrade: requests>=2.0.0 in /home/ty/anaconda3/lib/python3.7/site-packages (from requests-oauthlib>=0.7.0->google-auth-oauthlib) (2.22.0)\n",
      "Collecting oauthlib>=3.0.0\n",
      "  Downloading oauthlib-3.1.0-py2.py3-none-any.whl (147 kB)\n",
      "\u001b[K     |████████████████████████████████| 147 kB 5.0 MB/s eta 0:00:01\n",
      "\u001b[?25hRequirement already satisfied, skipping upgrade: pyasn1>=0.1.3 in /home/ty/anaconda3/lib/python3.7/site-packages (from rsa<4.1,>=3.1.4->google-auth->google-auth-oauthlib) (0.4.8)\n",
      "Requirement already satisfied, skipping upgrade: idna<2.9,>=2.5 in /home/ty/anaconda3/lib/python3.7/site-packages (from requests>=2.0.0->requests-oauthlib>=0.7.0->google-auth-oauthlib) (2.8)\n",
      "Requirement already satisfied, skipping upgrade: certifi>=2017.4.17 in /home/ty/anaconda3/lib/python3.7/site-packages (from requests>=2.0.0->requests-oauthlib>=0.7.0->google-auth-oauthlib) (2019.11.28)\n",
      "Requirement already satisfied, skipping upgrade: urllib3!=1.25.0,!=1.25.1,<1.26,>=1.21.1 in /home/ty/anaconda3/lib/python3.7/site-packages (from requests>=2.0.0->requests-oauthlib>=0.7.0->google-auth-oauthlib) (1.25.8)\n",
      "Requirement already satisfied, skipping upgrade: chardet<3.1.0,>=3.0.2 in /home/ty/anaconda3/lib/python3.7/site-packages (from requests>=2.0.0->requests-oauthlib>=0.7.0->google-auth-oauthlib) (3.0.4)\n",
      "Installing collected packages: oauthlib, requests-oauthlib, google-auth-oauthlib\n",
      "Successfully installed google-auth-oauthlib-0.4.1 oauthlib-3.1.0 requests-oauthlib-1.3.0\n"
     ]
    }
   ],
   "source": [
    "!pip install --upgrade google-auth-oauthlib google-auth-httplib2"
   ]
  },
  {
   "cell_type": "code",
   "execution_count": null,
   "metadata": {},
   "outputs": [],
   "source": []
  },
  {
   "cell_type": "code",
   "execution_count": 5,
   "metadata": {},
   "outputs": [],
   "source": [
    "# If modifying these scopes, delete the file token.pickle.\n",
    "SCOPES = ['https://www.googleapis.com/auth/script.projects']\n",
    "\n",
    "SAMPLE_CODE = '''\n",
    "function helloWorld() {\n",
    "  console.log(\"Hello, world!\");\n",
    "}\n",
    "'''.strip()\n",
    "\n",
    "SAMPLE_MANIFEST = '''\n",
    "{\n",
    "  \"timeZone\": \"America/New_York\",\n",
    "  \"exceptionLogging\": \"CLOUD\"\n",
    "}\n",
    "'''.strip()\n",
    "\n",
    "def main():\n",
    "    \"\"\"Calls the Apps Script API.\n",
    "    \"\"\"\n",
    "    creds = None\n",
    "    # The file token.pickle stores the user's access and refresh tokens, and is\n",
    "    # created automatically when the authorization flow completes for the first\n",
    "    # time.\n",
    "    if os.path.exists('token.pickle'):\n",
    "        with open('token.pickle', 'rb') as token:\n",
    "            creds = pickle.load(token)\n",
    "    # If there are no (valid) credentials available, let the user log in.\n",
    "    if not creds or not creds.valid:\n",
    "        if creds and creds.expired and creds.refresh_token:\n",
    "            creds.refresh(Request())\n",
    "        else:\n",
    "            flow = InstalledAppFlow.from_client_secrets_file(\n",
    "                'credentials.json', SCOPES)\n",
    "            creds = flow.run_local_server(port=0)\n",
    "        # Save the credentials for the next run\n",
    "        with open('token.pickle', 'wb') as token:\n",
    "            pickle.dump(creds, token)\n",
    "\n",
    "    service = build('script', 'v1', credentials=creds)\n",
    "\n",
    "    # Call the Apps Script API\n",
    "    try:\n",
    "        # Create a new project\n",
    "        request = {'title': 'My Script'}\n",
    "        response = service.projects().create(body=request).execute()\n",
    "\n",
    "        # Upload two files to the project\n",
    "        request = {\n",
    "            'files': [{\n",
    "                'name': 'hello',\n",
    "                'type': 'SERVER_JS',\n",
    "                'source': SAMPLE_CODE\n",
    "            }, {\n",
    "                'name': 'appsscript',\n",
    "                'type': 'JSON',\n",
    "                'source': SAMPLE_MANIFEST\n",
    "            }]\n",
    "        }\n",
    "        response = service.projects().updateContent(\n",
    "            body=request,\n",
    "            scriptId=response['scriptId']).execute()\n",
    "        print('https://script.google.com/d/' + response['scriptId'] + '/edit')\n",
    "    except errors.HttpError as error:\n",
    "        # The API encountered a problem.\n",
    "        print(error.content)"
   ]
  },
  {
   "cell_type": "code",
   "execution_count": null,
   "metadata": {},
   "outputs": [],
   "source": [
    "if __name__ == '__main__':\n",
    "    main()\n",
    "# [END apps_script_api_quickstart]"
   ]
  },
  {
   "cell_type": "code",
   "execution_count": 8,
   "metadata": {},
   "outputs": [
    {
     "name": "stdout",
     "output_type": "stream",
     "text": [
      "Please visit this URL to authorize this application: https://accounts.google.com/o/oauth2/auth?response_type=code&client_id=150621263345-ps27aiur2h7j7ro9el25odc0dlfkca0o.apps.googleusercontent.com&redirect_uri=http%3A%2F%2Flocalhost%3A32905%2F&scope=https%3A%2F%2Fwww.googleapis.com%2Fauth%2Fscript.projects&state=74D7Cce6th2aqC7cbfEnI0m1U7hhsI&access_type=offline\n",
      "b'{\\n  \"error\": {\\n    \"code\": 403,\\n    \"message\": \"Apps Script API has not been used in project 150621263345 before or it is disabled. Enable it by visiting https://console.developers.google.com/apis/api/script.googleapis.com/overview?project=150621263345 then retry. If you enabled this API recently, wait a few minutes for the action to propagate to our systems and retry.\",\\n    \"status\": \"PERMISSION_DENIED\",\\n    \"details\": [\\n      {\\n        \"@type\": \"type.googleapis.com/google.rpc.Help\",\\n        \"links\": [\\n          {\\n            \"description\": \"Google developers console API activation\",\\n            \"url\": \"https://console.developers.google.com/apis/api/script.googleapis.com/overview?project=150621263345\"\\n          }\\n        ]\\n      }\\n    ]\\n  }\\n}\\n'\n"
     ]
    }
   ],
   "source": [
    "main()"
   ]
  },
  {
   "cell_type": "code",
   "execution_count": 2,
   "metadata": {},
   "outputs": [],
   "source": [
    "def api_request(page_token, country_code):\n",
    "    # Builds the URL and requests the JSON from it\n",
    "    request_url = f\"https://www.googleapis.com/youtube/v3/videos?part=id,statistics,snippet{page_token}chart=mostPopular&regionCode={country_code}&maxResults=100&key={api_key}\"\n",
    "    print(\"request_url:\", request_url)\n",
    "    return None\n",
    "    request = requests.get(request_url)\n",
    "    if request.status_code == 429:\n",
    "        print(\"Temp-Banned due to excess requests, please wait and continue later\")\n",
    "        sys.exit()\n",
    "    return request.json()"
   ]
  },
  {
   "cell_type": "code",
   "execution_count": null,
   "metadata": {},
   "outputs": [],
   "source": []
  }
 ],
 "metadata": {
  "kernelspec": {
   "display_name": "Python 3",
   "language": "python",
   "name": "python3"
  },
  "language_info": {
   "codemirror_mode": {
    "name": "ipython",
    "version": 3
   },
   "file_extension": ".py",
   "mimetype": "text/x-python",
   "name": "python",
   "nbconvert_exporter": "python",
   "pygments_lexer": "ipython3",
   "version": "3.7.6"
  }
 },
 "nbformat": 4,
 "nbformat_minor": 4
}
