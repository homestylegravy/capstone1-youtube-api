{
 "cells": [
  {
   "cell_type": "code",
   "execution_count": null,
   "metadata": {},
   "outputs": [],
   "source": []
  },
  {
   "cell_type": "code",
   "execution_count": 1,
   "metadata": {},
   "outputs": [],
   "source": [
    "# Sample Python code for youtube.videos.list\n",
    "# See instructions for running these code samples locally:\n",
    "# https://developers.google.com/explorer-help/guides/code_samples#python\n",
    "import os\n",
    "import google_auth_oauthlib.flow\n",
    "import googleapiclient.discovery\n",
    "import googleapiclient.errors\n",
    "scopes = [\"https://www.googleapis.com/auth/youtube.readonly\"]\n",
    "\n",
    "def main():\n",
    "    # Disable OAuthlib's HTTPS verification when running locally.\n",
    "    # DO NOT leave this option enabled in production.\n",
    "    os.environ[\"OAUTHLIB_INSECURE_TRANSPORT\"] = \"1\"\n",
    "    api_service_name = \"youtube\"\n",
    "    api_version = \"v3\"\n",
    "    client_secrets_file = \"client_secret_file.json\"\n",
    "\n",
    "    # Get credentials and create an API client\n",
    "    flow = google_auth_oauthlib.flow.InstalledAppFlow.from_client_secrets_file(\n",
    "        client_secrets_file, scopes)\n",
    "    credentials = flow.run_console()\n",
    "    youtube = googleapiclient.discovery.build(\n",
    "        api_service_name, api_version, credentials=credentials)\n",
    "    request = youtube.videos().list(\n",
    "        part=\"snippet,contentDetails,statistics\",\n",
    "        chart=\"mostPopular\",\n",
    "        regionCode=\"US\"\n",
    "    )\n",
    "    response = request.execute()\n",
    "    print(response)\n",
    "    return response\n",
    "\n",
    "# if _name_ == \"_main_\":\n",
    "#     main()"
   ]
  },
  {
   "cell_type": "code",
   "execution_count": 3,
   "metadata": {},
   "outputs": [
    {
     "name": "stdout",
     "output_type": "stream",
     "text": [
      "Please visit this URL to authorize this application: https://accounts.google.com/o/oauth2/auth?response_type=code&client_id=150621263345-ps27aiur2h7j7ro9el25odc0dlfkca0o.apps.googleusercontent.com&redirect_uri=urn%3Aietf%3Awg%3Aoauth%3A2.0%3Aoob&scope=https%3A%2F%2Fwww.googleapis.com%2Fauth%2Fyoutube.readonly&state=Fhhs4inRxFuB9hEWbhIce9XMW510Tg&prompt=consent&access_type=offline\n",
      "Enter the authorization code: 4/yQEHpXFk1ZKowZeoN_2ojAGnJTmTfu2g5jktA-Zno1Cj983X9RFOA-k\n",
      "{'kind': 'youtube#videoListResponse', 'etag': '\"xwzn9fn_LczrfK9QS3iZcGzqRGs/yPVPiP9CGWs61ALzWgGJCIGeXGs\"', 'nextPageToken': 'CAUQAA', 'pageInfo': {'totalResults': 200, 'resultsPerPage': 5}, 'items': [{'kind': 'youtube#video', 'etag': '\"xwzn9fn_LczrfK9QS3iZcGzqRGs/IK4Lr-5Hd2XvAb_vuZuECrpF7rU\"', 'id': '8DcsFo3dnzE', 'snippet': {'publishedAt': '2020-04-07T17:54:32.000Z', 'channelId': 'UC0CG8Kj2DqFc9bJld0hJKBA', 'title': 'Giving My Shed a Tiny House Makeover!', 'description': 'Subscribe to Shane https://www.youtube.com/user/shane/vi... \\nSubscribe to Morgan https://www.youtube.com/channel/UCSfL...\\n\\nI finally have merch!! https://www.amazon.com/rylandadams\\n\\nWATCH MY LAST VIDEO: \"Sewing a Suit for my Wedding\" https://youtu.be/n8IypLpjhFw\\n\\nADD ME ON:\\nINSTAGRAM: https://www.instagram.com/rylandadams...\\nTWITTER: https://twitter.com/ryland_adams?lang=en\\nSNAPCHAT: @rylandadams\\n\\nPalm Leaf effect by iEditingX\\nCheck out her channel here: https://www.youtube.com/channel/UCSFP...\\nSubscribe here: https://tinyurl.com/iEditingXsubscribe', 'thumbnails': {'default': {'url': 'https://i.ytimg.com/vi/8DcsFo3dnzE/default.jpg', 'width': 120, 'height': 90}, 'medium': {'url': 'https://i.ytimg.com/vi/8DcsFo3dnzE/mqdefault.jpg', 'width': 320, 'height': 180}, 'high': {'url': 'https://i.ytimg.com/vi/8DcsFo3dnzE/hqdefault.jpg', 'width': 480, 'height': 360}, 'standard': {'url': 'https://i.ytimg.com/vi/8DcsFo3dnzE/sddefault.jpg', 'width': 640, 'height': 480}, 'maxres': {'url': 'https://i.ytimg.com/vi/8DcsFo3dnzE/maxresdefault.jpg', 'width': 1280, 'height': 720}}, 'channelTitle': 'Ryland Adams', 'tags': ['Ryland Adams', 'Morgan Adams', 'Shane Dawson', 'Makeover', 'Reveal', 'DIY', 'Design', 'Spotify', 'Podcast', 'Hermes', 'Gucci'], 'categoryId': '24', 'liveBroadcastContent': 'none', 'localized': {'title': 'Giving My Shed a Tiny House Makeover!', 'description': 'Subscribe to Shane https://www.youtube.com/user/shane/vi... \\nSubscribe to Morgan https://www.youtube.com/channel/UCSfL...\\n\\nI finally have merch!! https://www.amazon.com/rylandadams\\n\\nWATCH MY LAST VIDEO: \"Sewing a Suit for my Wedding\" https://youtu.be/n8IypLpjhFw\\n\\nADD ME ON:\\nINSTAGRAM: https://www.instagram.com/rylandadams...\\nTWITTER: https://twitter.com/ryland_adams?lang=en\\nSNAPCHAT: @rylandadams\\n\\nPalm Leaf effect by iEditingX\\nCheck out her channel here: https://www.youtube.com/channel/UCSFP...\\nSubscribe here: https://tinyurl.com/iEditingXsubscribe'}}, 'contentDetails': {'duration': 'PT30M11S', 'dimension': '2d', 'definition': 'hd', 'caption': 'false', 'licensedContent': True, 'projection': 'rectangular'}, 'statistics': {'viewCount': '1808184', 'likeCount': '161077', 'dislikeCount': '1455', 'favoriteCount': '0', 'commentCount': '11904'}}, {'kind': 'youtube#video', 'etag': '\"xwzn9fn_LczrfK9QS3iZcGzqRGs/ACf0CmDakrtu6b8DnVFKfF2BUCQ\"', 'id': 'MuEVSZYtDl4', 'snippet': {'publishedAt': '2020-04-07T23:09:01.000Z', 'channelId': 'UCXGgrKt94gR6lmN4aN3mYTg', 'title': 'This is the PS5 Controller...', 'description': 'The PlayStation 5 DualSense controller for PS5 is...unique. 🙃\\nGaming LIFE HACKS https://www.youtube.com/watch?v=Y80ZTbjtz5c\\nHands on with the Xbox Series X https://youtu.be/7Fjn4GRw8qE\\n\\nMore on the DualSense for PS5: https://blog.us.playstation.com/2020/04/07/introducing-dualsense-the-new-wireless-game-controller-for-playstation-5/\\n\\nMy new podcast The Test Drivers! https://www.relay.fm/testdrivers\\nOur second channel This Is! http://www.youtube.com/thisis\\nSubscribe! http://www.youtube.com/austinevans\\nInstagram: http://instagram.com/austinnotduncan\\nTwitter: http://twitter.com/austinnotduncan', 'thumbnails': {'default': {'url': 'https://i.ytimg.com/vi/MuEVSZYtDl4/default.jpg', 'width': 120, 'height': 90}, 'medium': {'url': 'https://i.ytimg.com/vi/MuEVSZYtDl4/mqdefault.jpg', 'width': 320, 'height': 180}, 'high': {'url': 'https://i.ytimg.com/vi/MuEVSZYtDl4/hqdefault.jpg', 'width': 480, 'height': 360}, 'standard': {'url': 'https://i.ytimg.com/vi/MuEVSZYtDl4/sddefault.jpg', 'width': 640, 'height': 480}, 'maxres': {'url': 'https://i.ytimg.com/vi/MuEVSZYtDl4/maxresdefault.jpg', 'width': 1280, 'height': 720}}, 'channelTitle': 'Austin Evans', 'tags': ['ps5', 'dualsense', 'playstation 5', 'ps5 controller', 'controller', 'playstation 5 controller', 'gaming', 'tech', 'reveal', 'announcement', 'xbox', 'sony', 'xbox series x', 'series x', 'dual sense', 'the test drivers', 'test drivers', 'this is', 'austin evans', 'playstation'], 'categoryId': '28', 'liveBroadcastContent': 'none', 'defaultLanguage': 'en', 'localized': {'title': 'This is the PS5 Controller...', 'description': 'The PlayStation 5 DualSense controller for PS5 is...unique. 🙃\\nGaming LIFE HACKS https://www.youtube.com/watch?v=Y80ZTbjtz5c\\nHands on with the Xbox Series X https://youtu.be/7Fjn4GRw8qE\\n\\nMore on the DualSense for PS5: https://blog.us.playstation.com/2020/04/07/introducing-dualsense-the-new-wireless-game-controller-for-playstation-5/\\n\\nMy new podcast The Test Drivers! https://www.relay.fm/testdrivers\\nOur second channel This Is! http://www.youtube.com/thisis\\nSubscribe! http://www.youtube.com/austinevans\\nInstagram: http://instagram.com/austinnotduncan\\nTwitter: http://twitter.com/austinnotduncan'}, 'defaultAudioLanguage': 'en'}, 'contentDetails': {'duration': 'PT7M4S', 'dimension': '2d', 'definition': 'hd', 'caption': 'true', 'licensedContent': True, 'projection': 'rectangular'}, 'statistics': {'viewCount': '1557936', 'likeCount': '58572', 'dislikeCount': '17879', 'favoriteCount': '0', 'commentCount': '15367'}}, {'kind': 'youtube#video', 'etag': '\"xwzn9fn_LczrfK9QS3iZcGzqRGs/adJHNxALiDL2r1IouzVcAUhdqCA\"', 'id': 'b4F_SJHfgqo', 'snippet': {'publishedAt': '2020-04-07T17:30:02.000Z', 'channelId': 'UCSUf5_EPEfl4zlBKZHkZdmw', 'title': 'Trying Awful Viral Photo Ideas', 'description': \"Thanks to ExpressVPN for sponsoring this video. Go to https://expressvpn.com/DannyGonzalez and find out how you can get 3 months free.\\n\\nBack at it again trying some troom troom crafts. This time we're following some of their viral instagram photo ideas. Enjoy :-)\\n\\nSupport Me\\nMERCH ► http://dannygonzalez.store\\n\\nFollow Me\\nINSTAGRAM ► https://www.instagram.com/dannygonzalez/\\nTWITTER ► https://twitter.com/dannygonzalez\\nSECOND CHANNEL ► https://www.youtube.com/c/2Danny2Furious\\nSPOTIFY ► https://open.spotify.com/artist/6pDkmNhHCLh7YEb3sXceOs?si=8ZpMgF41SoufOS1UZ4vbkg\\n\\nWHY DO I CALL MY FANS GREG?\\nGreg is the strongest family on the internet, we're the fastest growing channel on Youtube, and we make fire content. So, instead of making up some pun using my name and calling my fans that, I decided to use a different name entirely. A name so strong, haters tremble when it is spoken. WE ARE GREG. AND WE ARE TAKING OVER THE INTERNET. And all you have to do to join is hit subscribe and turn on notifications. \\n\\n#dannygonzalez\", 'thumbnails': {'default': {'url': 'https://i.ytimg.com/vi/b4F_SJHfgqo/default.jpg', 'width': 120, 'height': 90}, 'medium': {'url': 'https://i.ytimg.com/vi/b4F_SJHfgqo/mqdefault.jpg', 'width': 320, 'height': 180}, 'high': {'url': 'https://i.ytimg.com/vi/b4F_SJHfgqo/hqdefault.jpg', 'width': 480, 'height': 360}, 'standard': {'url': 'https://i.ytimg.com/vi/b4F_SJHfgqo/sddefault.jpg', 'width': 640, 'height': 480}, 'maxres': {'url': 'https://i.ytimg.com/vi/b4F_SJHfgqo/maxresdefault.jpg', 'width': 1280, 'height': 720}}, 'channelTitle': 'Danny Gonzalez', 'tags': ['danny gonzalez', 'funny', 'commentary', 'comedy', 'react', 'reaction', 'reacting', 'awful', 'humor', 'trying', 'troom troom', \"troom troom's\", 'photo', 'ideas', 'viral', 'troom'], 'categoryId': '23', 'liveBroadcastContent': 'none', 'localized': {'title': 'Trying Awful Viral Photo Ideas', 'description': \"Thanks to ExpressVPN for sponsoring this video. Go to https://expressvpn.com/DannyGonzalez and find out how you can get 3 months free.\\n\\nBack at it again trying some troom troom crafts. This time we're following some of their viral instagram photo ideas. Enjoy :-)\\n\\nSupport Me\\nMERCH ► http://dannygonzalez.store\\n\\nFollow Me\\nINSTAGRAM ► https://www.instagram.com/dannygonzalez/\\nTWITTER ► https://twitter.com/dannygonzalez\\nSECOND CHANNEL ► https://www.youtube.com/c/2Danny2Furious\\nSPOTIFY ► https://open.spotify.com/artist/6pDkmNhHCLh7YEb3sXceOs?si=8ZpMgF41SoufOS1UZ4vbkg\\n\\nWHY DO I CALL MY FANS GREG?\\nGreg is the strongest family on the internet, we're the fastest growing channel on Youtube, and we make fire content. So, instead of making up some pun using my name and calling my fans that, I decided to use a different name entirely. A name so strong, haters tremble when it is spoken. WE ARE GREG. AND WE ARE TAKING OVER THE INTERNET. And all you have to do to join is hit subscribe and turn on notifications. \\n\\n#dannygonzalez\"}, 'defaultAudioLanguage': 'en'}, 'contentDetails': {'duration': 'PT22M30S', 'dimension': '2d', 'definition': 'hd', 'caption': 'false', 'licensedContent': True, 'projection': 'rectangular'}, 'statistics': {'viewCount': '1547388', 'likeCount': '148561', 'dislikeCount': '826', 'favoriteCount': '0', 'commentCount': '16218'}}, {'kind': 'youtube#video', 'etag': '\"xwzn9fn_LczrfK9QS3iZcGzqRGs/cT_sOcf9gq8hNz3P-wr2eDZn2Fs\"', 'id': 'laxOfJLBpm4', 'snippet': {'publishedAt': '2020-04-07T17:00:03.000Z', 'channelId': 'UC9YydG57epLqxA9cTzZXSeQ', 'title': 'Call of Duty®: Modern Warfare® & Warzone - Season 3 Trailer', 'description': 'Take it to the next level.\\n\\nExperience Season 3 including old friends, bigger squads, fresher rides, and more. Coming tomorrow for #ModernWarfare and #Warzone.\\n\\nSeason 3 arrives for Call of Duty: Modern Warfare and Call of Duty: Warzone on 4.8.20.\\n\\nFollow us for all the latest intel:\\nWeb: http://www.CallofDuty.com ;\\nFacebook: http://facebook.com/CallofDuty and https://www.facebook.com/InfinityWard/ ;\\nTwitter: http://twitter.com/CallofDuty and https://twitter.com/infinityward;\\nInstagram: http://instagram.com/CallofDuty and https://www.instagram.com/infinityward/', 'thumbnails': {'default': {'url': 'https://i.ytimg.com/vi/laxOfJLBpm4/default.jpg', 'width': 120, 'height': 90}, 'medium': {'url': 'https://i.ytimg.com/vi/laxOfJLBpm4/mqdefault.jpg', 'width': 320, 'height': 180}, 'high': {'url': 'https://i.ytimg.com/vi/laxOfJLBpm4/hqdefault.jpg', 'width': 480, 'height': 360}, 'standard': {'url': 'https://i.ytimg.com/vi/laxOfJLBpm4/sddefault.jpg', 'width': 640, 'height': 480}, 'maxres': {'url': 'https://i.ytimg.com/vi/laxOfJLBpm4/maxresdefault.jpg', 'width': 1280, 'height': 720}}, 'channelTitle': 'Call of Duty', 'tags': ['call of duty', 'cod', 'activision', 'fps', 'mp', 'multiplayer', 'modern', 'warfare', 'modern warfare', 'mw', 'battle pass', 'tiers', 'season 3', 'szn 3', 'warzone', 'wz', 'battle royale', 'br', 'gamer', 'gamers', 'gaming', 'video games'], 'categoryId': '20', 'liveBroadcastContent': 'none', 'localized': {'title': 'Call of Duty®: Modern Warfare® & Warzone - Season 3 Trailer', 'description': 'Take it to the next level.\\n\\nExperience Season 3 including old friends, bigger squads, fresher rides, and more. Coming tomorrow for #ModernWarfare and #Warzone.\\n\\nSeason 3 arrives for Call of Duty: Modern Warfare and Call of Duty: Warzone on 4.8.20.\\n\\nFollow us for all the latest intel:\\nWeb: http://www.CallofDuty.com ;\\nFacebook: http://facebook.com/CallofDuty and https://www.facebook.com/InfinityWard/ ;\\nTwitter: http://twitter.com/CallofDuty and https://twitter.com/infinityward;\\nInstagram: http://instagram.com/CallofDuty and https://www.instagram.com/infinityward/'}, 'defaultAudioLanguage': 'en'}, 'contentDetails': {'duration': 'PT1M13S', 'dimension': '2d', 'definition': 'hd', 'caption': 'false', 'licensedContent': False, 'projection': 'rectangular'}, 'statistics': {'viewCount': '1797366', 'likeCount': '58000', 'dislikeCount': '2165', 'favoriteCount': '0', 'commentCount': '6208'}}, {'kind': 'youtube#video', 'etag': '\"xwzn9fn_LczrfK9QS3iZcGzqRGs/XSDVwDvTCciArGngwAd9m7_7Keg\"', 'id': 'qP_wIvitN7w', 'snippet': {'publishedAt': '2020-04-07T22:39:19.000Z', 'channelId': 'UCCFrAf9Pu5Zw2-WyyPjHd0w', 'title': \"FINDING OUT I'M PREGNANT AND SURPRISING MY BOYFRIEND\", 'description': \"We are so excited to finally share with you that we are having a baby! I found out I was pregnant and surprised Adam on valentine's day! Do you think we're having a boy or a girl?\\n\\nLENA'S SOCIALS\\nhttps://www.instagram.com/lenatheplug\\nhttps://twitter.com/lenatheplug\\nhttps://www.instagram.com/lenazeeangel/\\nhttps://twitter.com/lenazeeangel\\n\\nADAM'S SOCIALS\\nhttps://www.instagram.com/adam22/\\nhttps://www.twitter.com/adam22\\nhttps://www.snapchat.com/add/adam22hoe\\n\\nTONY CAT :)\\nhttps://www.instagram.com/iamtonycat/\\n\\n#livepregnancytest #firstpregnancy #pregnant\", 'thumbnails': {'default': {'url': 'https://i.ytimg.com/vi/qP_wIvitN7w/default.jpg', 'width': 120, 'height': 90}, 'medium': {'url': 'https://i.ytimg.com/vi/qP_wIvitN7w/mqdefault.jpg', 'width': 320, 'height': 180}, 'high': {'url': 'https://i.ytimg.com/vi/qP_wIvitN7w/hqdefault.jpg', 'width': 480, 'height': 360}, 'standard': {'url': 'https://i.ytimg.com/vi/qP_wIvitN7w/sddefault.jpg', 'width': 640, 'height': 480}, 'maxres': {'url': 'https://i.ytimg.com/vi/qP_wIvitN7w/maxresdefault.jpg', 'width': 1280, 'height': 720}}, 'channelTitle': 'Lena & Adam', 'tags': ['first pregnancy', 'pregnant', 'live pregnancy test', 'lena', 'adam22', 'baby', 'pregnancy announcement'], 'categoryId': '22', 'liveBroadcastContent': 'none', 'defaultLanguage': 'en', 'localized': {'title': \"FINDING OUT I'M PREGNANT AND SURPRISING MY BOYFRIEND\", 'description': \"We are so excited to finally share with you that we are having a baby! I found out I was pregnant and surprised Adam on valentine's day! Do you think we're having a boy or a girl?\\n\\nLENA'S SOCIALS\\nhttps://www.instagram.com/lenatheplug\\nhttps://twitter.com/lenatheplug\\nhttps://www.instagram.com/lenazeeangel/\\nhttps://twitter.com/lenazeeangel\\n\\nADAM'S SOCIALS\\nhttps://www.instagram.com/adam22/\\nhttps://www.twitter.com/adam22\\nhttps://www.snapchat.com/add/adam22hoe\\n\\nTONY CAT :)\\nhttps://www.instagram.com/iamtonycat/\\n\\n#livepregnancytest #firstpregnancy #pregnant\"}}, 'contentDetails': {'duration': 'PT10M17S', 'dimension': '2d', 'definition': 'hd', 'caption': 'false', 'licensedContent': True, 'projection': 'rectangular'}, 'statistics': {'viewCount': '397267', 'likeCount': '30443', 'dislikeCount': '640', 'favoriteCount': '0', 'commentCount': '3727'}}]}\n"
     ]
    }
   ],
   "source": [
    "a = main()"
   ]
  },
  {
   "cell_type": "code",
   "execution_count": 9,
   "metadata": {},
   "outputs": [
    {
     "name": "stdout",
     "output_type": "stream",
     "text": [
      "kind\n",
      "etag\n",
      "nextPageToken\n",
      "pageInfo\n",
      "items\n"
     ]
    }
   ],
   "source": [
    "for b in a.keys():\n",
    "    print (type(b)"
   ]
  },
  {
   "cell_type": "code",
   "execution_count": 6,
   "metadata": {},
   "outputs": [],
   "source": [
    "a = '''{'kind': 'youtube#videoListResponse', 'etag': '\"xwzn9fn_LczrfK9QS3iZcGzqRGs/BNYWbZ4DA9QwmeJTfRr0zrqKzLY\"', 'nextPageToken': 'CAUQAA', 'pageInfo': {'totalResults': 200, 'resultsPerPage': 5}, 'items': [{'kind': 'youtube#video', 'etag': '\"xwzn9fn_LczrfK9QS3iZcGzqRGs/dvBGWt33HOXTvdS_2IGygSi4m-8\"', 'id': '8DcsFo3dnzE', 'snippet': {'publishedAt': '2020-04-07T17:54:32.000Z', 'channelId': 'UC0CG8Kj2DqFc9bJld0hJKBA', 'title': 'Giving My Shed a Tiny House Makeover!', 'description': 'Subscribe to Shane https://www.youtube.com/user/shane/vi... \\nSubscribe to Morgan https://www.youtube.com/channel/UCSfL...\\n\\nI finally have merch!! https://www.amazon.com/rylandadams\\n\\nWATCH MY LAST VIDEO: \"Sewing a Suit for my Wedding\" https://youtu.be/n8IypLpjhFw\\n\\nADD ME ON:\\nINSTAGRAM: https://www.instagram.com/rylandadams...\\nTWITTER: https://twitter.com/ryland_adams?lang=en\\nSNAPCHAT: @rylandadams\\n\\nPalm Leaf effect by iEditingX\\nCheck out her channel here: https://www.youtube.com/channel/UCSFP...\\nSubscribe here: https://tinyurl.com/iEditingXsubscribe', 'thumbnails': {'default': {'url': 'https://i.ytimg.com/vi/8DcsFo3dnzE/default.jpg', 'width': 120, 'height': 90}, 'medium': {'url': 'https://i.ytimg.com/vi/8DcsFo3dnzE/mqdefault.jpg', 'width': 320, 'height': 180}, 'high': {'url': 'https://i.ytimg.com/vi/8DcsFo3dnzE/hqdefault.jpg', 'width': 480, 'height': 360}, 'standard': {'url': 'https://i.ytimg.com/vi/8DcsFo3dnzE/sddefault.jpg', 'width': 640, 'height': 480}, 'maxres': {'url': 'https://i.ytimg.com/vi/8DcsFo3dnzE/maxresdefault.jpg', 'width': 1280, 'height': 720}}, 'channelTitle': 'Ryland Adams', 'tags': ['Ryland Adams', 'Morgan Adams', 'Shane Dawson', 'Makeover', 'Reveal', 'DIY', 'Design', 'Spotify', 'Podcast', 'Hermes', 'Gucci'], 'categoryId': '24', 'liveBroadcastContent': 'none', 'localized': {'title': 'Giving My Shed a Tiny House Makeover!', 'description': 'Subscribe to Shane https://www.youtube.com/user/shane/vi... \\nSubscribe to Morgan https://www.youtube.com/channel/UCSfL...\\n\\nI finally have merch!! https://www.amazon.com/rylandadams\\n\\nWATCH MY LAST VIDEO: \"Sewing a Suit for my Wedding\" https://youtu.be/n8IypLpjhFw\\n\\nADD ME ON:\\nINSTAGRAM: https://www.instagram.com/rylandadams...\\nTWITTER: https://twitter.com/ryland_adams?lang=en\\nSNAPCHAT: @rylandadams\\n\\nPalm Leaf effect by iEditingX\\nCheck out her channel here: https://www.youtube.com/channel/UCSFP...\\nSubscribe here: https://tinyurl.com/iEditingXsubscribe'}}, 'contentDetails': {'duration': 'PT30M11S', 'dimension': '2d', 'definition': 'hd', 'caption': 'false', 'licensedContent': True, 'projection': 'rectangular'}, 'statistics': {'viewCount': '1788863', 'likeCount': '159568', 'dislikeCount': '1407', 'favoriteCount': '0', 'commentCount': '11809'}}, {'kind': 'youtube#video', 'etag': '\"xwzn9fn_LczrfK9QS3iZcGzqRGs/npJ4bgsUGBbbHmVKzovkjy8RPfI\"', 'id': 'MuEVSZYtDl4', 'snippet': {'publishedAt': '2020-04-07T23:09:01.000Z', 'channelId': 'UCXGgrKt94gR6lmN4aN3mYTg', 'title': 'This is the PS5 Controller...', 'description': 'The PlayStation 5 DualSense controller for PS5 is...unique. 🙃\\nGaming LIFE HACKS https://www.youtube.com/watch?v=Y80ZTbjtz5c\\nHands on with the Xbox Series X https://youtu.be/7Fjn4GRw8qE\\n\\nMore on the DualSense for PS5: https://blog.us.playstation.com/2020/04/07/introducing-dualsense-the-new-wireless-game-controller-for-playstation-5/\\n\\nMy new podcast The Test Drivers! https://www.relay.fm/testdrivers\\nOur second channel This Is! http://www.youtube.com/thisis\\nSubscribe! http://www.youtube.com/austinevans\\nInstagram: http://instagram.com/austinnotduncan\\nTwitter: http://twitter.com/austinnotduncan', 'thumbnails': {'default': {'url': 'https://i.ytimg.com/vi/MuEVSZYtDl4/default.jpg', 'width': 120, 'height': 90}, 'medium': {'url': 'https://i.ytimg.com/vi/MuEVSZYtDl4/mqdefault.jpg', 'width': 320, 'height': 180}, 'high': {'url': 'https://i.ytimg.com/vi/MuEVSZYtDl4/hqdefault.jpg', 'width': 480, 'height': 360}, 'standard': {'url': 'https://i.ytimg.com/vi/MuEVSZYtDl4/sddefault.jpg', 'width': 640, 'height': 480}, 'maxres': {'url': 'https://i.ytimg.com/vi/MuEVSZYtDl4/maxresdefault.jpg', 'width': 1280, 'height': 720}}, 'channelTitle': 'Austin Evans', 'tags': ['ps5', 'dualsense', 'playstation 5', 'ps5 controller', 'controller', 'playstation 5 controller', 'gaming', 'tech', 'reveal', 'announcement', 'xbox', 'sony', 'xbox series x', 'series x', 'dual sense', 'the test drivers', 'test drivers', 'this is', 'austin evans', 'playstation'], 'categoryId': '28', 'liveBroadcastContent': 'none', 'defaultLanguage': 'en', 'localized': {'title': 'This is the PS5 Controller...', 'description': 'The PlayStation 5 DualSense controller for PS5 is...unique. 🙃\\nGaming LIFE HACKS https://www.youtube.com/watch?v=Y80ZTbjtz5c\\nHands on with the Xbox Series X https://youtu.be/7Fjn4GRw8qE\\n\\nMore on the DualSense for PS5: https://blog.us.playstation.com/2020/04/07/introducing-dualsense-the-new-wireless-game-controller-for-playstation-5/\\n\\nMy new podcast The Test Drivers! https://www.relay.fm/testdrivers\\nOur second channel This Is! http://www.youtube.com/thisis\\nSubscribe! http://www.youtube.com/austinevans\\nInstagram: http://instagram.com/austinnotduncan\\nTwitter: http://twitter.com/austinnotduncan'}, 'defaultAudioLanguage': 'en'}, 'contentDetails': {'duration': 'PT7M4S', 'dimension': '2d', 'definition': 'hd', 'caption': 'true', 'licensedContent': True, 'projection': 'rectangular'}, 'statistics': {'viewCount': '1542644', 'likeCount': '57905', 'dislikeCount': '17375', 'favoriteCount': '0', 'commentCount': '15163'}}, {'kind': 'youtube#video', 'etag': '\"xwzn9fn_LczrfK9QS3iZcGzqRGs/-8Hu0y2b4sT47S-ACIZ9wRH3Br0\"', 'id': 'b4F_SJHfgqo', 'snippet': {'publishedAt': '2020-04-07T17:30:02.000Z', 'channelId': 'UCSUf5_EPEfl4zlBKZHkZdmw', 'title': 'Trying Awful Viral Photo Ideas', 'description': \"Thanks to ExpressVPN for sponsoring this video. Go to https://expressvpn.com/DannyGonzalez and find out how you can get 3 months free.\\n\\nBack at it again trying some troom troom crafts. This time we're following some of their viral instagram photo ideas. Enjoy :-)\\n\\nSupport Me\\nMERCH ► http://dannygonzalez.store\\n\\nFollow Me\\nINSTAGRAM ► https://www.instagram.com/dannygonzalez/\\nTWITTER ► https://twitter.com/dannygonzalez\\nSECOND CHANNEL ► https://www.youtube.com/c/2Danny2Furious\\nSPOTIFY ► https://open.spotify.com/artist/6pDkmNhHCLh7YEb3sXceOs?si=8ZpMgF41SoufOS1UZ4vbkg\\n\\nWHY DO I CALL MY FANS GREG?\\nGreg is the strongest family on the internet, we're the fastest growing channel on Youtube, and we make fire content. So, instead of making up some pun using my name and calling my fans that, I decided to use a different name entirely. A name so strong, haters tremble when it is spoken. WE ARE GREG. AND WE ARE TAKING OVER THE INTERNET. And all you have to do to join is hit subscribe and turn on notifications. \\n\\n#dannygonzalez\", 'thumbnails': {'default': {'url': 'https://i.ytimg.com/vi/b4F_SJHfgqo/default.jpg', 'width': 120, 'height': 90}, 'medium': {'url': 'https://i.ytimg.com/vi/b4F_SJHfgqo/mqdefault.jpg', 'width': 320, 'height': 180}, 'high': {'url': 'https://i.ytimg.com/vi/b4F_SJHfgqo/hqdefault.jpg', 'width': 480, 'height': 360}, 'standard': {'url': 'https://i.ytimg.com/vi/b4F_SJHfgqo/sddefault.jpg', 'width': 640, 'height': 480}, 'maxres': {'url': 'https://i.ytimg.com/vi/b4F_SJHfgqo/maxresdefault.jpg', 'width': 1280, 'height': 720}}, 'channelTitle': 'Danny Gonzalez', 'tags': ['danny gonzalez', 'funny', 'commentary', 'comedy', 'react', 'reaction', 'reacting', 'awful', 'humor', 'trying', 'troom troom', \"troom troom's\", 'photo', 'ideas', 'viral', 'troom'], 'categoryId': '23', 'liveBroadcastContent': 'none', 'localized': {'title': 'Trying Awful Viral Photo Ideas', 'description': \"Thanks to ExpressVPN for sponsoring this video. Go to https://expressvpn.com/DannyGonzalez and find out how you can get 3 months free.\\n\\nBack at it again trying some troom troom crafts. This time we're following some of their viral instagram photo ideas. Enjoy :-)\\n\\nSupport Me\\nMERCH ► http://dannygonzalez.store\\n\\nFollow Me\\nINSTAGRAM ► https://www.instagram.com/dannygonzalez/\\nTWITTER ► https://twitter.com/dannygonzalez\\nSECOND CHANNEL ► https://www.youtube.com/c/2Danny2Furious\\nSPOTIFY ► https://open.spotify.com/artist/6pDkmNhHCLh7YEb3sXceOs?si=8ZpMgF41SoufOS1UZ4vbkg\\n\\nWHY DO I CALL MY FANS GREG?\\nGreg is the strongest family on the internet, we're the fastest growing channel on Youtube, and we make fire content. So, instead of making up some pun using my name and calling my fans that, I decided to use a different name entirely. A name so strong, haters tremble when it is spoken. WE ARE GREG. AND WE ARE TAKING OVER THE INTERNET. And all you have to do to join is hit subscribe and turn on notifications. \\n\\n#dannygonzalez\"}, 'defaultAudioLanguage': 'en'}, 'contentDetails': {'duration': 'PT22M30S', 'dimension': '2d', 'definition': 'hd', 'caption': 'false', 'licensedContent': True, 'projection': 'rectangular'}, 'statistics': {'viewCount': '1537716', 'likeCount': '147905', 'dislikeCount': '801', 'favoriteCount': '0', 'commentCount': '16157'}}, {'kind': 'youtube#video', 'etag': '\"xwzn9fn_LczrfK9QS3iZcGzqRGs/ulyEpX-ZrQTj6NQsBlOn0i4K5Vc\"', 'id': 'laxOfJLBpm4', 'snippet': {'publishedAt': '2020-04-07T17:00:03.000Z', 'channelId': 'UC9YydG57epLqxA9cTzZXSeQ', 'title': 'Call of Duty®: Modern Warfare® & Warzone - Season 3 Trailer', 'description': 'Take it to the next level.\\n\\nExperience Season 3 including old friends, bigger squads, fresher rides, and more. Coming tomorrow for #ModernWarfare and #Warzone.\\n\\nSeason 3 arrives for Call of Duty: Modern Warfare and Call of Duty: Warzone on 4.8.20.\\n\\nFollow us for all the latest intel:\\nWeb: http://www.CallofDuty.com ;\\nFacebook: http://facebook.com/CallofDuty and https://www.facebook.com/InfinityWard/ ;\\nTwitter: http://twitter.com/CallofDuty and https://twitter.com/infinityward;\\nInstagram: http://instagram.com/CallofDuty and https://www.instagram.com/infinityward/', 'thumbnails': {'default': {'url': 'https://i.ytimg.com/vi/laxOfJLBpm4/default.jpg', 'width': 120, 'height': 90}, 'medium': {'url': 'https://i.ytimg.com/vi/laxOfJLBpm4/mqdefault.jpg', 'width': 320, 'height': 180}, 'high': {'url': 'https://i.ytimg.com/vi/laxOfJLBpm4/hqdefault.jpg', 'width': 480, 'height': 360}, 'standard': {'url': 'https://i.ytimg.com/vi/laxOfJLBpm4/sddefault.jpg', 'width': 640, 'height': 480}, 'maxres': {'url': 'https://i.ytimg.com/vi/laxOfJLBpm4/maxresdefault.jpg', 'width': 1280, 'height': 720}}, 'channelTitle': 'Call of Duty', 'tags': ['call of duty', 'cod', 'activision', 'fps', 'mp', 'multiplayer', 'modern', 'warfare', 'modern warfare', 'mw', 'battle pass', 'tiers', 'season 3', 'szn 3', 'warzone', 'wz', 'battle royale', 'br', 'gamer', 'gamers', 'gaming', 'video games'], 'categoryId': '20', 'liveBroadcastContent': 'none', 'localized': {'title': 'Call of Duty®: Modern Warfare® & Warzone - Season 3 Trailer', 'description': 'Take it to the next level.\\n\\nExperience Season 3 including old friends, bigger squads, fresher rides, and more. Coming tomorrow for #ModernWarfare and #Warzone.\\n\\nSeason 3 arrives for Call of Duty: Modern Warfare and Call of Duty: Warzone on 4.8.20.\\n\\nFollow us for all the latest intel:\\nWeb: http://www.CallofDuty.com ;\\nFacebook: http://facebook.com/CallofDuty and https://www.facebook.com/InfinityWard/ ;\\nTwitter: http://twitter.com/CallofDuty and https://twitter.com/infinityward;\\nInstagram: http://instagram.com/CallofDuty and https://www.instagram.com/infinityward/'}, 'defaultAudioLanguage': 'en'}, 'contentDetails': {'duration': 'PT1M13S', 'dimension': '2d', 'definition': 'hd', 'caption': 'false', 'licensedContent': False, 'projection': 'rectangular'}, 'statistics': {'viewCount': '1784563', 'likeCount': '57806', 'dislikeCount': '2144', 'favoriteCount': '0', 'commentCount': '6183'}}, {'kind': 'youtube#video', 'etag': '\"xwzn9fn_LczrfK9QS3iZcGzqRGs/_ucL1BgnlnfWYqB_bgG2b2BTe1w\"', 'id': 'qP_wIvitN7w', 'snippet': {'publishedAt': '2020-04-07T22:39:19.000Z', 'channelId': 'UCCFrAf9Pu5Zw2-WyyPjHd0w', 'title': \"FINDING OUT I'M PREGNANT AND SURPRISING MY BOYFRIEND\", 'description': \"We are so excited to finally share with you that we are having a baby! I found out I was pregnant and surprised Adam on valentine's day! Do you think we're having a boy or a girl?\\n\\nLENA'S SOCIALS\\nhttps://www.instagram.com/lenatheplug\\nhttps://twitter.com/lenatheplug\\nhttps://www.instagram.com/lenazeeangel/\\nhttps://twitter.com/lenazeeangel\\n\\nADAM'S SOCIALS\\nhttps://www.instagram.com/adam22/\\nhttps://www.twitter.com/adam22\\nhttps://www.snapchat.com/add/adam22hoe\\n\\nTONY CAT :)\\nhttps://www.instagram.com/iamtonycat/\\n\\n#livepregnancytest #firstpregnancy #pregnant\", 'thumbnails': {'default': {'url': 'https://i.ytimg.com/vi/qP_wIvitN7w/default.jpg', 'width': 120, 'height': 90}, 'medium': {'url': 'https://i.ytimg.com/vi/qP_wIvitN7w/mqdefault.jpg', 'width': 320, 'height': 180}, 'high': {'url': 'https://i.ytimg.com/vi/qP_wIvitN7w/hqdefault.jpg', 'width': 480, 'height': 360}, 'standard': {'url': 'https://i.ytimg.com/vi/qP_wIvitN7w/sddefault.jpg', 'width': 640, 'height': 480}, 'maxres': {'url': 'https://i.ytimg.com/vi/qP_wIvitN7w/maxresdefault.jpg', 'width': 1280, 'height': 720}}, 'channelTitle': 'Lena & Adam', 'tags': ['first pregnancy', 'pregnant', 'live pregnancy test', 'lena', 'adam22', 'baby', 'pregnancy announcement'], 'categoryId': '22', 'liveBroadcastContent': 'none', 'defaultLanguage': 'en', 'localized': {'title': \"FINDING OUT I'M PREGNANT AND SURPRISING MY BOYFRIEND\", 'description': \"We are so excited to finally share with you that we are having a baby! I found out I was pregnant and surprised Adam on valentine's day! Do you think we're having a boy or a girl?\\n\\nLENA'S SOCIALS\\nhttps://www.instagram.com/lenatheplug\\nhttps://twitter.com/lenatheplug\\nhttps://www.instagram.com/lenazeeangel/\\nhttps://twitter.com/lenazeeangel\\n\\nADAM'S SOCIALS\\nhttps://www.instagram.com/adam22/\\nhttps://www.twitter.com/adam22\\nhttps://www.snapchat.com/add/adam22hoe\\n\\nTONY CAT :)\\nhttps://www.instagram.com/iamtonycat/\\n\\n#livepregnancytest #firstpregnancy #pregnant\"}}, 'contentDetails': {'duration': 'PT10M17S', 'dimension': '2d', 'definition': 'hd', 'caption': 'false', 'licensedContent': True, 'projection': 'rectangular'}, 'statistics': {'viewCount': '392371', 'likeCount': '30058', 'dislikeCount': '605', 'favoriteCount': '0', 'commentCount': '3654'}}]}'''"
   ]
  },
  {
   "cell_type": "code",
   "execution_count": 11,
   "metadata": {},
   "outputs": [
    {
     "data": {
      "text/plain": [
       "str"
      ]
     },
     "execution_count": 11,
     "metadata": {},
     "output_type": "execute_result"
    }
   ],
   "source": [
    "type(a)"
   ]
  },
  {
   "cell_type": "code",
   "execution_count": 9,
   "metadata": {},
   "outputs": [],
   "source": [
    "import pandas as pd"
   ]
  },
  {
   "cell_type": "code",
   "execution_count": 16,
   "metadata": {},
   "outputs": [
    {
     "ename": "ValueError",
     "evalue": "Expected object or value",
     "output_type": "error",
     "traceback": [
      "\u001b[0;31m---------------------------------------------------------------------------\u001b[0m",
      "\u001b[0;31mValueError\u001b[0m                                Traceback (most recent call last)",
      "\u001b[0;32m<ipython-input-16-26086a9bec6e>\u001b[0m in \u001b[0;36m<module>\u001b[0;34m\u001b[0m\n\u001b[0;32m----> 1\u001b[0;31m \u001b[0mdf\u001b[0m \u001b[0;34m=\u001b[0m \u001b[0mpd\u001b[0m\u001b[0;34m.\u001b[0m\u001b[0mread_json\u001b[0m\u001b[0;34m(\u001b[0m\u001b[0;34mr'r.json'\u001b[0m\u001b[0;34m)\u001b[0m\u001b[0;34m\u001b[0m\u001b[0;34m\u001b[0m\u001b[0m\n\u001b[0m",
      "\u001b[0;32m~/anaconda3/lib/python3.7/site-packages/pandas/util/_decorators.py\u001b[0m in \u001b[0;36mwrapper\u001b[0;34m(*args, **kwargs)\u001b[0m\n\u001b[1;32m    212\u001b[0m                 \u001b[0;32melse\u001b[0m\u001b[0;34m:\u001b[0m\u001b[0;34m\u001b[0m\u001b[0;34m\u001b[0m\u001b[0m\n\u001b[1;32m    213\u001b[0m                     \u001b[0mkwargs\u001b[0m\u001b[0;34m[\u001b[0m\u001b[0mnew_arg_name\u001b[0m\u001b[0;34m]\u001b[0m \u001b[0;34m=\u001b[0m \u001b[0mnew_arg_value\u001b[0m\u001b[0;34m\u001b[0m\u001b[0;34m\u001b[0m\u001b[0m\n\u001b[0;32m--> 214\u001b[0;31m             \u001b[0;32mreturn\u001b[0m \u001b[0mfunc\u001b[0m\u001b[0;34m(\u001b[0m\u001b[0;34m*\u001b[0m\u001b[0margs\u001b[0m\u001b[0;34m,\u001b[0m \u001b[0;34m**\u001b[0m\u001b[0mkwargs\u001b[0m\u001b[0;34m)\u001b[0m\u001b[0;34m\u001b[0m\u001b[0;34m\u001b[0m\u001b[0m\n\u001b[0m\u001b[1;32m    215\u001b[0m \u001b[0;34m\u001b[0m\u001b[0m\n\u001b[1;32m    216\u001b[0m         \u001b[0;32mreturn\u001b[0m \u001b[0mcast\u001b[0m\u001b[0;34m(\u001b[0m\u001b[0mF\u001b[0m\u001b[0;34m,\u001b[0m \u001b[0mwrapper\u001b[0m\u001b[0;34m)\u001b[0m\u001b[0;34m\u001b[0m\u001b[0;34m\u001b[0m\u001b[0m\n",
      "\u001b[0;32m~/anaconda3/lib/python3.7/site-packages/pandas/io/json/_json.py\u001b[0m in \u001b[0;36mread_json\u001b[0;34m(path_or_buf, orient, typ, dtype, convert_axes, convert_dates, keep_default_dates, numpy, precise_float, date_unit, encoding, lines, chunksize, compression)\u001b[0m\n\u001b[1;32m    606\u001b[0m         \u001b[0;32mreturn\u001b[0m \u001b[0mjson_reader\u001b[0m\u001b[0;34m\u001b[0m\u001b[0;34m\u001b[0m\u001b[0m\n\u001b[1;32m    607\u001b[0m \u001b[0;34m\u001b[0m\u001b[0m\n\u001b[0;32m--> 608\u001b[0;31m     \u001b[0mresult\u001b[0m \u001b[0;34m=\u001b[0m \u001b[0mjson_reader\u001b[0m\u001b[0;34m.\u001b[0m\u001b[0mread\u001b[0m\u001b[0;34m(\u001b[0m\u001b[0;34m)\u001b[0m\u001b[0;34m\u001b[0m\u001b[0;34m\u001b[0m\u001b[0m\n\u001b[0m\u001b[1;32m    609\u001b[0m     \u001b[0;32mif\u001b[0m \u001b[0mshould_close\u001b[0m\u001b[0;34m:\u001b[0m\u001b[0;34m\u001b[0m\u001b[0;34m\u001b[0m\u001b[0m\n\u001b[1;32m    610\u001b[0m         \u001b[0mfilepath_or_buffer\u001b[0m\u001b[0;34m.\u001b[0m\u001b[0mclose\u001b[0m\u001b[0;34m(\u001b[0m\u001b[0;34m)\u001b[0m\u001b[0;34m\u001b[0m\u001b[0;34m\u001b[0m\u001b[0m\n",
      "\u001b[0;32m~/anaconda3/lib/python3.7/site-packages/pandas/io/json/_json.py\u001b[0m in \u001b[0;36mread\u001b[0;34m(self)\u001b[0m\n\u001b[1;32m    729\u001b[0m             \u001b[0mobj\u001b[0m \u001b[0;34m=\u001b[0m \u001b[0mself\u001b[0m\u001b[0;34m.\u001b[0m\u001b[0m_get_object_parser\u001b[0m\u001b[0;34m(\u001b[0m\u001b[0mself\u001b[0m\u001b[0;34m.\u001b[0m\u001b[0m_combine_lines\u001b[0m\u001b[0;34m(\u001b[0m\u001b[0mdata\u001b[0m\u001b[0;34m.\u001b[0m\u001b[0msplit\u001b[0m\u001b[0;34m(\u001b[0m\u001b[0;34m\"\\n\"\u001b[0m\u001b[0;34m)\u001b[0m\u001b[0;34m)\u001b[0m\u001b[0;34m)\u001b[0m\u001b[0;34m\u001b[0m\u001b[0;34m\u001b[0m\u001b[0m\n\u001b[1;32m    730\u001b[0m         \u001b[0;32melse\u001b[0m\u001b[0;34m:\u001b[0m\u001b[0;34m\u001b[0m\u001b[0;34m\u001b[0m\u001b[0m\n\u001b[0;32m--> 731\u001b[0;31m             \u001b[0mobj\u001b[0m \u001b[0;34m=\u001b[0m \u001b[0mself\u001b[0m\u001b[0;34m.\u001b[0m\u001b[0m_get_object_parser\u001b[0m\u001b[0;34m(\u001b[0m\u001b[0mself\u001b[0m\u001b[0;34m.\u001b[0m\u001b[0mdata\u001b[0m\u001b[0;34m)\u001b[0m\u001b[0;34m\u001b[0m\u001b[0;34m\u001b[0m\u001b[0m\n\u001b[0m\u001b[1;32m    732\u001b[0m         \u001b[0mself\u001b[0m\u001b[0;34m.\u001b[0m\u001b[0mclose\u001b[0m\u001b[0;34m(\u001b[0m\u001b[0;34m)\u001b[0m\u001b[0;34m\u001b[0m\u001b[0;34m\u001b[0m\u001b[0m\n\u001b[1;32m    733\u001b[0m         \u001b[0;32mreturn\u001b[0m \u001b[0mobj\u001b[0m\u001b[0;34m\u001b[0m\u001b[0;34m\u001b[0m\u001b[0m\n",
      "\u001b[0;32m~/anaconda3/lib/python3.7/site-packages/pandas/io/json/_json.py\u001b[0m in \u001b[0;36m_get_object_parser\u001b[0;34m(self, json)\u001b[0m\n\u001b[1;32m    751\u001b[0m         \u001b[0mobj\u001b[0m \u001b[0;34m=\u001b[0m \u001b[0;32mNone\u001b[0m\u001b[0;34m\u001b[0m\u001b[0;34m\u001b[0m\u001b[0m\n\u001b[1;32m    752\u001b[0m         \u001b[0;32mif\u001b[0m \u001b[0mtyp\u001b[0m \u001b[0;34m==\u001b[0m \u001b[0;34m\"frame\"\u001b[0m\u001b[0;34m:\u001b[0m\u001b[0;34m\u001b[0m\u001b[0;34m\u001b[0m\u001b[0m\n\u001b[0;32m--> 753\u001b[0;31m             \u001b[0mobj\u001b[0m \u001b[0;34m=\u001b[0m \u001b[0mFrameParser\u001b[0m\u001b[0;34m(\u001b[0m\u001b[0mjson\u001b[0m\u001b[0;34m,\u001b[0m \u001b[0;34m**\u001b[0m\u001b[0mkwargs\u001b[0m\u001b[0;34m)\u001b[0m\u001b[0;34m.\u001b[0m\u001b[0mparse\u001b[0m\u001b[0;34m(\u001b[0m\u001b[0;34m)\u001b[0m\u001b[0;34m\u001b[0m\u001b[0;34m\u001b[0m\u001b[0m\n\u001b[0m\u001b[1;32m    754\u001b[0m \u001b[0;34m\u001b[0m\u001b[0m\n\u001b[1;32m    755\u001b[0m         \u001b[0;32mif\u001b[0m \u001b[0mtyp\u001b[0m \u001b[0;34m==\u001b[0m \u001b[0;34m\"series\"\u001b[0m \u001b[0;32mor\u001b[0m \u001b[0mobj\u001b[0m \u001b[0;32mis\u001b[0m \u001b[0;32mNone\u001b[0m\u001b[0;34m:\u001b[0m\u001b[0;34m\u001b[0m\u001b[0;34m\u001b[0m\u001b[0m\n",
      "\u001b[0;32m~/anaconda3/lib/python3.7/site-packages/pandas/io/json/_json.py\u001b[0m in \u001b[0;36mparse\u001b[0;34m(self)\u001b[0m\n\u001b[1;32m    855\u001b[0m \u001b[0;34m\u001b[0m\u001b[0m\n\u001b[1;32m    856\u001b[0m         \u001b[0;32melse\u001b[0m\u001b[0;34m:\u001b[0m\u001b[0;34m\u001b[0m\u001b[0;34m\u001b[0m\u001b[0m\n\u001b[0;32m--> 857\u001b[0;31m             \u001b[0mself\u001b[0m\u001b[0;34m.\u001b[0m\u001b[0m_parse_no_numpy\u001b[0m\u001b[0;34m(\u001b[0m\u001b[0;34m)\u001b[0m\u001b[0;34m\u001b[0m\u001b[0;34m\u001b[0m\u001b[0m\n\u001b[0m\u001b[1;32m    858\u001b[0m \u001b[0;34m\u001b[0m\u001b[0m\n\u001b[1;32m    859\u001b[0m         \u001b[0;32mif\u001b[0m \u001b[0mself\u001b[0m\u001b[0;34m.\u001b[0m\u001b[0mobj\u001b[0m \u001b[0;32mis\u001b[0m \u001b[0;32mNone\u001b[0m\u001b[0;34m:\u001b[0m\u001b[0;34m\u001b[0m\u001b[0;34m\u001b[0m\u001b[0m\n",
      "\u001b[0;32m~/anaconda3/lib/python3.7/site-packages/pandas/io/json/_json.py\u001b[0m in \u001b[0;36m_parse_no_numpy\u001b[0;34m(self)\u001b[0m\n\u001b[1;32m   1087\u001b[0m         \u001b[0;32mif\u001b[0m \u001b[0morient\u001b[0m \u001b[0;34m==\u001b[0m \u001b[0;34m\"columns\"\u001b[0m\u001b[0;34m:\u001b[0m\u001b[0;34m\u001b[0m\u001b[0;34m\u001b[0m\u001b[0m\n\u001b[1;32m   1088\u001b[0m             self.obj = DataFrame(\n\u001b[0;32m-> 1089\u001b[0;31m                 \u001b[0mloads\u001b[0m\u001b[0;34m(\u001b[0m\u001b[0mjson\u001b[0m\u001b[0;34m,\u001b[0m \u001b[0mprecise_float\u001b[0m\u001b[0;34m=\u001b[0m\u001b[0mself\u001b[0m\u001b[0;34m.\u001b[0m\u001b[0mprecise_float\u001b[0m\u001b[0;34m)\u001b[0m\u001b[0;34m,\u001b[0m \u001b[0mdtype\u001b[0m\u001b[0;34m=\u001b[0m\u001b[0;32mNone\u001b[0m\u001b[0;34m\u001b[0m\u001b[0;34m\u001b[0m\u001b[0m\n\u001b[0m\u001b[1;32m   1090\u001b[0m             )\n\u001b[1;32m   1091\u001b[0m         \u001b[0;32melif\u001b[0m \u001b[0morient\u001b[0m \u001b[0;34m==\u001b[0m \u001b[0;34m\"split\"\u001b[0m\u001b[0;34m:\u001b[0m\u001b[0;34m\u001b[0m\u001b[0;34m\u001b[0m\u001b[0m\n",
      "\u001b[0;31mValueError\u001b[0m: Expected object or value"
     ]
    }
   ],
   "source": [
    "df = pd.read_json(r'r.json')"
   ]
  },
  {
   "cell_type": "code",
   "execution_count": 33,
   "metadata": {},
   "outputs": [],
   "source": [
    "outfile = open('r.json', 'w')"
   ]
  },
  {
   "cell_type": "code",
   "execution_count": 34,
   "metadata": {},
   "outputs": [],
   "source": [
    "unsafe_characters = ['\\n', '\"']\n",
    "\n",
    "def prepare_feature(feature):\n",
    "    # Removes any character from the unsafe characters list and surrounds the whole item in quotes\n",
    "    for ch in unsafe_characters:\n",
    "        feature = str(feature).replace(ch, \"\")\n",
    "    return f'\"{feature}\"'\n",
    "a = prepare_feature(a)\n",
    "\n",
    "outfile.writelines(a)"
   ]
  },
  {
   "cell_type": "code",
   "execution_count": 35,
   "metadata": {},
   "outputs": [],
   "source": [
    "outfile.close()"
   ]
  },
  {
   "cell_type": "code",
   "execution_count": 17,
   "metadata": {},
   "outputs": [],
   "source": [
    "from collections import OrderedDict\n",
    "\n",
    "def flatten(json_object, container=None, name=''):\n",
    "    if container is None:\n",
    "        container = OrderedDict()\n",
    "    if isinstance(json_object, dict):\n",
    "        for key in json_object:\n",
    "            flatten(json_object[key], container=container, name=name + key + '_')\n",
    "    elif isinstance(json_object, list):\n",
    "        for n, item in enumerate(json_object, 1):\n",
    "            flatten(item, container=container, name=name + str(n) + '_')\n",
    "    else:\n",
    "        container[str(name[:-1])] = str(json_object)\n",
    "    return container"
   ]
  },
  {
   "cell_type": "code",
   "execution_count": null,
   "metadata": {},
   "outputs": [],
   "source": [
    "df = pd.read_json(r'r.json')"
   ]
  },
  {
   "cell_type": "code",
   "execution_count": 41,
   "metadata": {},
   "outputs": [],
   "source": [
    "m = pd.DataFrame(flatten(a), index=[0])"
   ]
  },
  {
   "cell_type": "code",
   "execution_count": 42,
   "metadata": {},
   "outputs": [
    {
     "data": {
      "text/html": [
       "<div>\n",
       "<style scoped>\n",
       "    .dataframe tbody tr th:only-of-type {\n",
       "        vertical-align: middle;\n",
       "    }\n",
       "\n",
       "    .dataframe tbody tr th {\n",
       "        vertical-align: top;\n",
       "    }\n",
       "\n",
       "    .dataframe thead th {\n",
       "        text-align: right;\n",
       "    }\n",
       "</style>\n",
       "<table border=\"1\" class=\"dataframe\">\n",
       "  <thead>\n",
       "    <tr style=\"text-align: right;\">\n",
       "      <th></th>\n",
       "      <th></th>\n",
       "    </tr>\n",
       "  </thead>\n",
       "  <tbody>\n",
       "    <tr>\n",
       "      <th>0</th>\n",
       "      <td>\"{'kind': 'youtube#videoListResponse', 'etag':...</td>\n",
       "    </tr>\n",
       "  </tbody>\n",
       "</table>\n",
       "</div>"
      ],
      "text/plain": [
       "                                                    \n",
       "0  \"{'kind': 'youtube#videoListResponse', 'etag':..."
      ]
     },
     "execution_count": 42,
     "metadata": {},
     "output_type": "execute_result"
    }
   ],
   "source": [
    "m"
   ]
  },
  {
   "cell_type": "code",
   "execution_count": 25,
   "metadata": {},
   "outputs": [],
   "source": [
    "import json"
   ]
  },
  {
   "cell_type": "code",
   "execution_count": 26,
   "metadata": {},
   "outputs": [
    {
     "ename": "AttributeError",
     "evalue": "'str' object has no attribute 'read'",
     "output_type": "error",
     "traceback": [
      "\u001b[0;31m---------------------------------------------------------------------------\u001b[0m",
      "\u001b[0;31mAttributeError\u001b[0m                            Traceback (most recent call last)",
      "\u001b[0;32m<ipython-input-26-92620c88dfa4>\u001b[0m in \u001b[0;36m<module>\u001b[0;34m\u001b[0m\n\u001b[0;32m----> 1\u001b[0;31m \u001b[0mdata\u001b[0m \u001b[0;34m=\u001b[0m \u001b[0mjson\u001b[0m\u001b[0;34m.\u001b[0m\u001b[0mload\u001b[0m\u001b[0;34m(\u001b[0m\u001b[0;34mr'r.json'\u001b[0m\u001b[0;34m)\u001b[0m\u001b[0;34m\u001b[0m\u001b[0;34m\u001b[0m\u001b[0m\n\u001b[0m",
      "\u001b[0;32m~/anaconda3/lib/python3.7/json/__init__.py\u001b[0m in \u001b[0;36mload\u001b[0;34m(fp, cls, object_hook, parse_float, parse_int, parse_constant, object_pairs_hook, **kw)\u001b[0m\n\u001b[1;32m    291\u001b[0m     \u001b[0mkwarg\u001b[0m\u001b[0;34m;\u001b[0m \u001b[0motherwise\u001b[0m\u001b[0;31m \u001b[0m\u001b[0;31m`\u001b[0m\u001b[0;31m`\u001b[0m\u001b[0mJSONDecoder\u001b[0m\u001b[0;31m`\u001b[0m\u001b[0;31m`\u001b[0m \u001b[0;32mis\u001b[0m \u001b[0mused\u001b[0m\u001b[0;34m.\u001b[0m\u001b[0;34m\u001b[0m\u001b[0;34m\u001b[0m\u001b[0m\n\u001b[1;32m    292\u001b[0m     \"\"\"\n\u001b[0;32m--> 293\u001b[0;31m     return loads(fp.read(),\n\u001b[0m\u001b[1;32m    294\u001b[0m         \u001b[0mcls\u001b[0m\u001b[0;34m=\u001b[0m\u001b[0mcls\u001b[0m\u001b[0;34m,\u001b[0m \u001b[0mobject_hook\u001b[0m\u001b[0;34m=\u001b[0m\u001b[0mobject_hook\u001b[0m\u001b[0;34m,\u001b[0m\u001b[0;34m\u001b[0m\u001b[0;34m\u001b[0m\u001b[0m\n\u001b[1;32m    295\u001b[0m         \u001b[0mparse_float\u001b[0m\u001b[0;34m=\u001b[0m\u001b[0mparse_float\u001b[0m\u001b[0;34m,\u001b[0m \u001b[0mparse_int\u001b[0m\u001b[0;34m=\u001b[0m\u001b[0mparse_int\u001b[0m\u001b[0;34m,\u001b[0m\u001b[0;34m\u001b[0m\u001b[0;34m\u001b[0m\u001b[0m\n",
      "\u001b[0;31mAttributeError\u001b[0m: 'str' object has no attribute 'read'"
     ]
    }
   ],
   "source": [
    "data = json.load(r'r.json')"
   ]
  },
  {
   "cell_type": "code",
   "execution_count": null,
   "metadata": {},
   "outputs": [],
   "source": []
  },
  {
   "cell_type": "code",
   "execution_count": null,
   "metadata": {},
   "outputs": [],
   "source": []
  },
  {
   "cell_type": "code",
   "execution_count": null,
   "metadata": {},
   "outputs": [],
   "source": []
  },
  {
   "cell_type": "code",
   "execution_count": null,
   "metadata": {},
   "outputs": [],
   "source": []
  },
  {
   "cell_type": "code",
   "execution_count": null,
   "metadata": {},
   "outputs": [],
   "source": []
  },
  {
   "cell_type": "code",
   "execution_count": null,
   "metadata": {},
   "outputs": [],
   "source": []
  },
  {
   "cell_type": "code",
   "execution_count": null,
   "metadata": {},
   "outputs": [],
   "source": []
  }
 ],
 "metadata": {
  "kernelspec": {
   "display_name": "Python 3",
   "language": "python",
   "name": "python3"
  },
  "language_info": {
   "codemirror_mode": {
    "name": "ipython",
    "version": 3
   },
   "file_extension": ".py",
   "mimetype": "text/x-python",
   "name": "python",
   "nbconvert_exporter": "python",
   "pygments_lexer": "ipython3",
   "version": "3.7.6"
  }
 },
 "nbformat": 4,
 "nbformat_minor": 4
}
